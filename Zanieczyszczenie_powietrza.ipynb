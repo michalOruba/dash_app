{
 "cells": [
  {
   "cell_type": "markdown",
   "metadata": {},
   "source": [
    "# Wstęp\n",
    "\n",
    "Analizie został poddany zbiór skumulowanych danych ze strony https://bdl.stat.gov.pl/BDL/dane/podgrup/temat/9/216/1649.\n",
    "Pobrane informacje były wybrane z kilku kategori, które były przydatne w analizie. Dane zostały wstępnie przygotowane do dalszej analizy, m.in. połączenie wszystkich danych do jednego pliku.\n",
    "\n",
    "Dane zawierają informację na temat zanieczyszczenia powietrza, zgonach spowodowanych nowotworem oraz populacji każdego z województw Polski na przestrzeni lat 1996 - 2017.\n",
    "\n",
    "Analiza obrazować będzie tendencję zanieczyszczeń oraz analizę ich wpływu na umieralność z powodu nowotworów.\n",
    "\n",
    "Zbiór danych zawiera poniższe kolumny:\n",
    "\n",
    "| Nazwa             | Opis                                         |\n",
    "| ------------------|----------------------------------------------|\n",
    "| Kod               | Kod województwa                              |\n",
    "| Nazwa             | Nazwa województwa                            |\n",
    "| Rok               | Rok                                          |\n",
    "| populacja         | Liczba ludności w danym województwie         |\n",
    "| zgony             | Liczba zgonów spowodowanych nowotworem       |\n",
    "| tlenki_azotu      | Zanieczyszczenie tlenkami azotu w tonach     |\n",
    "| tlenek_wegla      | Zanieczyszczenie tlenkiem węgla w tonach     |\n",
    "| podtlenek_azotu   | Zanieczyszczenie podtlenkiem azotu w tonach  |\n",
    "| dwutlenek_siarki  | Zanieczyszczenie dwutlenkiem siarki w tonach |\n",
    "| dwutlenek_wegla   | Zanieczyszczenie dwutlenkiem węgla w tonach  |\n",
    "| nie_zorganizowana | Pozostałe zanieczyszczenia w tonach          |\n"
   ]
  },
  {
   "cell_type": "markdown",
   "metadata": {},
   "source": [
    "# Przegląd danych\n",
    "\n",
    "Do przeglądania oraz przetwarzania zbioru danych wykorzystano bibliotekę *Pandas*. Aby wczytać plik z danymi należało skorzystać z polecenia *pd.read_csv()*. Następnie, czy pomocy polecenia *columns.tolist()* uzyskano informację na temat kolumn, które znajdują się w pliku, co potwierdza informacje przedstawione w tabeli przedstawionej we wstępie. \n",
    "\n",
    "Aby poprawnie wczytać plik z danymi do tego notatnika, musi on być w tym samym katalogu co ten Notebook, lub należy zmienić ścieżkę na własną."
   ]
  },
  {
   "cell_type": "code",
   "execution_count": 5,
   "metadata": {},
   "outputs": [],
   "source": [
    "import pandas as pd\n",
    "\n",
    "df = pd.read_csv(r'DANE.csv', encoding= 'unicode_escape')"
   ]
  },
  {
   "cell_type": "code",
   "execution_count": 6,
   "metadata": {},
   "outputs": [],
   "source": [
    "# Usunięcie warningów z Notebooka w Binder\n",
    "from warnings import simplefilter\n",
    "simplefilter(action='ignore', category=FutureWarning)"
   ]
  },
  {
   "cell_type": "code",
   "execution_count": 8,
   "metadata": {},
   "outputs": [
    {
     "name": "stdout",
     "output_type": "stream",
     "text": [
      "['Kod', 'Nazwa', 'Rok', 'populacja', 'zgony', 'tlenki_azotu', 'tlenek_wegla', 'podtlenek_azotu', 'dwutlenek_siarki', 'dwutlenek_wegla', 'metan', 'nie_zorganizowana']\n"
     ]
    }
   ],
   "source": [
    "# Weryfikacja kolumn\n",
    "columns = df.columns.tolist()\n",
    "print(columns)"
   ]
  },
  {
   "cell_type": "markdown",
   "metadata": {},
   "source": [
    "Aby zweryfikować, jakie typy danych znajdują się w każdej z kolumn, użyto polecenia dtypes. Jego wyniki znajdują się poniżej. Na ich podstawie można wnioskować, najprawdopodobniej wszystkie wartości w kolumnach mają poprawne wartości. Jednak konieczna jest dalsza analiza, aby to potwierdzić."
   ]
  },
  {
   "cell_type": "code",
   "execution_count": 9,
   "metadata": {},
   "outputs": [
    {
     "name": "stdout",
     "output_type": "stream",
     "text": [
      "Kod                    int64\n",
      "Nazwa                 object\n",
      "Rok                    int64\n",
      "populacja              int64\n",
      "zgony                float64\n",
      "tlenki_azotu         float64\n",
      "tlenek_wegla         float64\n",
      "podtlenek_azotu      float64\n",
      "dwutlenek_siarki     float64\n",
      "dwutlenek_wegla      float64\n",
      "metan                float64\n",
      "nie_zorganizowana    float64\n",
      "dtype: object\n"
     ]
    }
   ],
   "source": [
    "# Typy danych w kolumnach\n",
    "\n",
    "print(df.dtypes)"
   ]
  },
  {
   "cell_type": "markdown",
   "metadata": {},
   "source": [
    "Aby zweryfikować, które kolumny zawierają puste wartości i jaka jest ich liczba, skorzystano z metody isnull().sum(). W wynikach można zaobserwować braki we wszystkich kolumnach z zanieczyszczeniami oraz w kolumnie *zgony*."
   ]
  },
  {
   "cell_type": "code",
   "execution_count": 11,
   "metadata": {},
   "outputs": [
    {
     "name": "stdout",
     "output_type": "stream",
     "text": [
      "Kod                   0\n",
      "Nazwa                 0\n",
      "Rok                   0\n",
      "populacja             0\n",
      "zgony                48\n",
      "tlenki_azotu         32\n",
      "tlenek_wegla         32\n",
      "podtlenek_azotu      32\n",
      "dwutlenek_siarki     32\n",
      "dwutlenek_wegla      32\n",
      "metan                32\n",
      "nie_zorganizowana    32\n",
      "dtype: int64\n"
     ]
    }
   ],
   "source": [
    "# Weryfikacja pustych wartosci\n",
    "\n",
    "print(df.isnull().sum())"
   ]
  },
  {
   "cell_type": "markdown",
   "metadata": {},
   "source": [
    "Kolejną wykonaną analizą danych była weryfikacja przy pomocy polecenia *describe()*. Wynikiem jest zbiór danych z wyszczególnionymi parametrami takimi jak liczba, średnia, odchylenie standardowe, wartości minimalna, maksymalna oraz kartyle. Wykonano także polecenie *describe* z parametrem *include='object'*, aby zweryfikować zawartość kolumny Nazwa. Jej opis zawiera liczbę, liczbę unikatowych wartości, element najczęściej występujący oraz liczbę jego wystąpień."
   ]
  },
  {
   "cell_type": "code",
   "execution_count": 12,
   "metadata": {},
   "outputs": [
    {
     "name": "stdout",
     "output_type": "stream",
     "text": [
      "                Kod         Rok     populacja         zgony  tlenki_azotu  \\\n",
      "count  3.520000e+02   352.00000  3.520000e+02    304.000000    320.000000   \n",
      "mean   1.700000e+06  2006.50000  2.397414e+06   5962.078947  20671.965625   \n",
      "std    9.232668e+05     6.35332  1.209577e+06   3240.052173  18192.057273   \n",
      "min    2.000000e+05  1996.00000  9.900690e+05   2094.000000   2163.000000   \n",
      "25%    9.500000e+05  2001.00000  1.401194e+06   3245.000000   6722.000000   \n",
      "50%    1.700000e+06  2006.50000  2.129622e+06   5109.500000  16396.500000   \n",
      "75%    2.450000e+06  2012.00000  3.039429e+06   7614.750000  25015.500000   \n",
      "max    3.200000e+06  2017.00000  5.384617e+06  14898.000000  87099.000000   \n",
      "\n",
      "        tlenek_wegla  podtlenek_azotu  dwutlenek_siarki  dwutlenek_wegla  \\\n",
      "count     320.000000       320.000000        320.000000     3.200000e+02   \n",
      "mean    21320.775000       181.771875      44090.481250     1.325814e+07   \n",
      "std     31952.537564       509.340099      52286.509046     1.203262e+07   \n",
      "min      2134.000000         0.000000       2149.000000     1.371567e+06   \n",
      "25%      5015.500000         0.000000      10250.500000     4.138836e+06   \n",
      "50%     12035.500000         0.000000      22119.000000     9.880486e+06   \n",
      "75%     20301.750000        12.000000      56422.500000     1.656399e+07   \n",
      "max    161631.000000      4811.000000     300853.000000     4.842190e+07   \n",
      "\n",
      "               metan  nie_zorganizowana  \n",
      "count     320.000000         320.000000  \n",
      "mean    25863.650000        6621.512500  \n",
      "std     88752.082778       14629.255734  \n",
      "min         0.000000           0.000000  \n",
      "25%         0.000000         153.000000  \n",
      "50%        44.000000         906.000000  \n",
      "75%      1022.000000        5109.500000  \n",
      "max    494031.000000       91643.000000  \n",
      "               Nazwa\n",
      "count            352\n",
      "unique            16\n",
      "top     DOLNOSLASKIE\n",
      "freq              22\n"
     ]
    }
   ],
   "source": [
    "# Opis danych\n",
    "\n",
    "desc = df.describe()\n",
    "descObj = df.describe(include='object')\n",
    "\n",
    "print(desc)\n",
    "print(descObj)"
   ]
  },
  {
   "cell_type": "markdown",
   "metadata": {},
   "source": [
    "Poniżej znajduje się weryfikacja kolumny *Nazwa* pod względem znaków spoza alfabetu:"
   ]
  },
  {
   "cell_type": "code",
   "execution_count": 15,
   "metadata": {},
   "outputs": [
    {
     "name": "stdout",
     "output_type": "stream",
     "text": [
      "['KUJAWSKO-POMORSKIE' 'SWIE\\x98TOKRZYSKIE' 'WARMINSKO-MAZURSKIE']\n"
     ]
    }
   ],
   "source": [
    "# Weryfikacja nazwy województw\n",
    "\n",
    "poprawne_nazwy = df.loc[(~df['Nazwa'].str.isalpha())]\n",
    "\n",
    "print(poprawne_nazwy['Nazwa'].unique())"
   ]
  },
  {
   "cell_type": "markdown",
   "metadata": {},
   "source": [
    "Poniżej znajduje się weryfikacja pustych wartości w kolumnie *zgony*:"
   ]
  },
  {
   "cell_type": "code",
   "execution_count": 21,
   "metadata": {},
   "outputs": [
    {
     "name": "stdout",
     "output_type": "stream",
     "text": [
      "Lata z pustymi wartościami dla kolumny zgony\n",
      "[1996 1997 1998]\n",
      "\n",
      "Puste wiersze dla lat 1996 i 1997\n",
      "         Kod                Nazwa   Rok  populacja  zgony  tlenki_azotu  \\\n",
      "0     200000         DOLNOSLASKIE  1996    2986884    NaN           NaN   \n",
      "1     200000         DOLNOSLASKIE  1997    2985381    NaN           NaN   \n",
      "22    400000   KUJAWSKO-POMORSKIE  1996    2095819    NaN           NaN   \n",
      "23    400000   KUJAWSKO-POMORSKIE  1997    2098018    NaN           NaN   \n",
      "44    600000            LUBELSKIE  1996    2244212    NaN           NaN   \n",
      "45    600000            LUBELSKIE  1997    2241952    NaN           NaN   \n",
      "66    800000             LUBUSKIE  1996    1017596    NaN           NaN   \n",
      "67    800000             LUBUSKIE  1997    1020345    NaN           NaN   \n",
      "88   1000000              LODZKIE  1996    2680350    NaN           NaN   \n",
      "89   1000000              LODZKIE  1997    2672823    NaN           NaN   \n",
      "110  1200000          MALOPOLSKIE  1996    3197064    NaN           NaN   \n",
      "111  1200000          MALOPOLSKIE  1997    3206630    NaN           NaN   \n",
      "132  1400000          MAZOWIECKIE  1996    5061049    NaN           NaN   \n",
      "133  1400000          MAZOWIECKIE  1997    5064950    NaN           NaN   \n",
      "154  1600000             OPOLSKIE  1996    1092524    NaN           NaN   \n",
      "155  1600000             OPOLSKIE  1997    1091077    NaN           NaN   \n",
      "176  1800000         PODKARPACKIE  1996    2112560    NaN           NaN   \n",
      "177  1800000         PODKARPACKIE  1997    2117341    NaN           NaN   \n",
      "198  2000000            PODLASKIE  1996    1223133    NaN           NaN   \n",
      "199  2000000            PODLASKIE  1997    1223944    NaN           NaN   \n",
      "220  2200000            POMORSKIE  1996    2172540    NaN           NaN   \n",
      "221  2200000            POMORSKIE  1997    2179104    NaN           NaN   \n",
      "242  2400000              SLASKIE  1996    4902913    NaN           NaN   \n",
      "243  2400000              SLASKIE  1997    4894230    NaN           NaN   \n",
      "264  2600000      SWIETOKRZYSKIE  1996    1330460    NaN           NaN   \n",
      "265  2600000      SWIETOKRZYSKIE  1997    1327859    NaN           NaN   \n",
      "286  2800000  WARMINSKO-MAZURSKIE  1996    1456724    NaN           NaN   \n",
      "287  2800000  WARMINSKO-MAZURSKIE  1997    1460432    NaN           NaN   \n",
      "308  3000000        WIELKOPOLSKIE  1996    3339757    NaN           NaN   \n",
      "309  3000000        WIELKOPOLSKIE  1997    3346045    NaN           NaN   \n",
      "330  3200000   ZACHODNIOPOMORSKIE  1996    1725756    NaN           NaN   \n",
      "331  3200000   ZACHODNIOPOMORSKIE  1997    1729848    NaN           NaN   \n",
      "\n",
      "     tlenek_wegla  podtlenek_azotu  dwutlenek_siarki  dwutlenek_wegla  metan  \\\n",
      "0             NaN              NaN               NaN              NaN    NaN   \n",
      "1             NaN              NaN               NaN              NaN    NaN   \n",
      "22            NaN              NaN               NaN              NaN    NaN   \n",
      "23            NaN              NaN               NaN              NaN    NaN   \n",
      "44            NaN              NaN               NaN              NaN    NaN   \n",
      "45            NaN              NaN               NaN              NaN    NaN   \n",
      "66            NaN              NaN               NaN              NaN    NaN   \n",
      "67            NaN              NaN               NaN              NaN    NaN   \n",
      "88            NaN              NaN               NaN              NaN    NaN   \n",
      "89            NaN              NaN               NaN              NaN    NaN   \n",
      "110           NaN              NaN               NaN              NaN    NaN   \n",
      "111           NaN              NaN               NaN              NaN    NaN   \n",
      "132           NaN              NaN               NaN              NaN    NaN   \n",
      "133           NaN              NaN               NaN              NaN    NaN   \n",
      "154           NaN              NaN               NaN              NaN    NaN   \n",
      "155           NaN              NaN               NaN              NaN    NaN   \n",
      "176           NaN              NaN               NaN              NaN    NaN   \n",
      "177           NaN              NaN               NaN              NaN    NaN   \n",
      "198           NaN              NaN               NaN              NaN    NaN   \n",
      "199           NaN              NaN               NaN              NaN    NaN   \n",
      "220           NaN              NaN               NaN              NaN    NaN   \n",
      "221           NaN              NaN               NaN              NaN    NaN   \n",
      "242           NaN              NaN               NaN              NaN    NaN   \n",
      "243           NaN              NaN               NaN              NaN    NaN   \n",
      "264           NaN              NaN               NaN              NaN    NaN   \n",
      "265           NaN              NaN               NaN              NaN    NaN   \n",
      "286           NaN              NaN               NaN              NaN    NaN   \n",
      "287           NaN              NaN               NaN              NaN    NaN   \n",
      "308           NaN              NaN               NaN              NaN    NaN   \n",
      "309           NaN              NaN               NaN              NaN    NaN   \n",
      "330           NaN              NaN               NaN              NaN    NaN   \n",
      "331           NaN              NaN               NaN              NaN    NaN   \n",
      "\n",
      "     nie_zorganizowana  \n",
      "0                  NaN  \n",
      "1                  NaN  \n",
      "22                 NaN  \n",
      "23                 NaN  \n",
      "44                 NaN  \n",
      "45                 NaN  \n",
      "66                 NaN  \n",
      "67                 NaN  \n",
      "88                 NaN  \n",
      "89                 NaN  \n",
      "110                NaN  \n",
      "111                NaN  \n",
      "132                NaN  \n",
      "133                NaN  \n",
      "154                NaN  \n",
      "155                NaN  \n",
      "176                NaN  \n",
      "177                NaN  \n",
      "198                NaN  \n",
      "199                NaN  \n",
      "220                NaN  \n",
      "221                NaN  \n",
      "242                NaN  \n",
      "243                NaN  \n",
      "264                NaN  \n",
      "265                NaN  \n",
      "286                NaN  \n",
      "287                NaN  \n",
      "308                NaN  \n",
      "309                NaN  \n",
      "330                NaN  \n",
      "331                NaN  \n"
     ]
    }
   ],
   "source": [
    "# Pobranie wierszy zawierające puste wartosci\n",
    "\n",
    "puste_wartosci = df[df['zgony'].isna()]\n",
    "puste_wartosci_zgony_1996_1997 = puste_wartosci.loc[(puste_wartosci['Rok'] == 1996) | (puste_wartosci['Rok'] == 1997)]\n",
    "\n",
    "print('Lata z pustymi wartościami dla kolumny zgony')\n",
    "print(puste_wartosci['Rok'].unique())\n",
    "print('')\n",
    "print('Puste wiersze dla lat 1996 i 1997')\n",
    "print(puste_wartosci_zgony_1996_1997)\n",
    "\n"
   ]
  },
  {
   "cell_type": "markdown",
   "metadata": {},
   "source": [
    "Na podstawie powyższych analiz można stwierdzić, że dla lat 1996 i 1997 nie ma danych. Wiersze o tych wartościach zostaną usunięte. \n",
    "\n",
    "Dla roku 1998 brakuje informacji o zgonach.\n",
    "\n",
    "Województwo Świętokrzyskie, ma niepoprawny znak w nazwie."
   ]
  },
  {
   "cell_type": "markdown",
   "metadata": {},
   "source": [
    "# Czyszczenie danych\n",
    "\n",
    "Czyszenie danych polegać będzie na usunięciu niepoprawnych lub niepotrzebnych danych, uzupełnieniu brakujących tam, gdzie to możliwe. Podjeta zostanie także próba poprawienia tych informacji, których będzie możliwość."
   ]
  },
  {
   "cell_type": "markdown",
   "metadata": {},
   "source": [
    "## Usunięcie wierszy z brakiem danych\n",
    "\n",
    "Pierwszym elementem, z którego zostanie oczyszczony zbiór danych, to wiersze z pustymi wartościami. Nowy zbiór zapisany zostanie do zmiennej *df_bez_lat_1996_1997*. Zostanie także przeliczona na nowo kolumna indeksująca poleceniem reset_index(drop=True)."
   ]
  },
  {
   "cell_type": "code",
   "execution_count": 23,
   "metadata": {},
   "outputs": [
    {
     "name": "stdout",
     "output_type": "stream",
     "text": [
      "Kod                   0\n",
      "Nazwa                 0\n",
      "Rok                   0\n",
      "populacja             0\n",
      "zgony                16\n",
      "tlenki_azotu          0\n",
      "tlenek_wegla          0\n",
      "podtlenek_azotu       0\n",
      "dwutlenek_siarki      0\n",
      "dwutlenek_wegla       0\n",
      "metan                 0\n",
      "nie_zorganizowana     0\n",
      "dtype: int64\n"
     ]
    }
   ],
   "source": [
    "# %% Usuniecie wierszy z brakiem danych\n",
    "\n",
    "df_bez_lat_1996_1997 = df.drop(df[(df.Rok == 1996) | (df.Rok == 1997)].index)\n",
    "df_bez_lat_1996_1997 = df_bez_lat_1996_1997.reset_index(drop=True)\n",
    "print(df_bez_lat_1996_1997.isnull().sum())"
   ]
  },
  {
   "cell_type": "markdown",
   "metadata": {},
   "source": [
    "## Uzuepłnienie barkujących wartości dla roku 1998\n",
    "\n",
    "Do uzupełnienia wartości zostanie wykorzysany algorytm KNN (K Najbliższych sąsiadów). Wynikowy zbiór zostanie zapisany do zmiennej *df_uzupelnione*."
   ]
  },
  {
   "cell_type": "code",
   "execution_count": 24,
   "metadata": {},
   "outputs": [
    {
     "name": "stdout",
     "output_type": "stream",
     "text": [
      "Kod                  0\n",
      "Nazwa                0\n",
      "Rok                  0\n",
      "populacja            0\n",
      "zgony                0\n",
      "tlenki_azotu         0\n",
      "tlenek_wegla         0\n",
      "podtlenek_azotu      0\n",
      "dwutlenek_siarki     0\n",
      "dwutlenek_wegla      0\n",
      "metan                0\n",
      "nie_zorganizowana    0\n",
      "dtype: int64\n"
     ]
    }
   ],
   "source": [
    "# Uzupelnienie brakujacych wartosci dla roku 1998\n",
    "\n",
    "from sklearn.impute import KNNImputer\n",
    "\n",
    "imputer = KNNImputer(n_neighbors=8)\n",
    "df_bez_lat_1996_1997_drop_name = df_bez_lat_1996_1997.drop(columns='Nazwa')\n",
    "df_bez_lat_1996_1997_uzupelnione_1998 = pd.DataFrame(imputer.fit_transform(\n",
    "                    df_bez_lat_1996_1997_drop_name), \n",
    "                    columns = df_bez_lat_1996_1997_drop_name.columns)\n",
    "\n",
    "\n",
    "df_uzupelnione = df_bez_lat_1996_1997.copy()\n",
    "df_uzupelnione.loc[df_bez_lat_1996_1997_uzupelnione_1998.index, 'zgony'] = df_bez_lat_1996_1997_uzupelnione_1998\n",
    "\n",
    "\n",
    "print(df_uzupelnione.isnull().sum())"
   ]
  },
  {
   "cell_type": "markdown",
   "metadata": {},
   "source": [
    "## Poprawa kolumny Nazwa\n",
    "\n",
    "W celu poprawy wartości kolumny *Nazwa* zastosowano metodę title(), która miała na celu zmianę tekstu w następujący sposób:\n",
    "\n",
    "DOLNOSLASKIE -> Dolnoslaskie\n",
    "\n",
    "Dodatkowo poprawiono nazwę województwa Świętokrzyskiego. Wynikowy zbiór zostanie zapisany do zmiennej *df_poprawa_nazwa*."
   ]
  },
  {
   "cell_type": "code",
   "execution_count": 27,
   "metadata": {},
   "outputs": [
    {
     "name": "stdout",
     "output_type": "stream",
     "text": [
      "['Dolnoslaskie' 'Kujawsko-Pomorskie' 'Lubelskie' 'Lubuskie' 'Lodzkie'\n",
      " 'Malopolskie' 'Mazowieckie' 'Opolskie' 'Podkarpackie' 'Podlaskie'\n",
      " 'Pomorskie' 'Slaskie' 'Swietokrzyskie' 'Warminsko-Mazurskie'\n",
      " 'Wielkopolskie' 'Zachodniopomorskie']\n"
     ]
    }
   ],
   "source": [
    "# Formatowanie nazw wojewodztw\n",
    "\n",
    "df_poprawa_nazwa = df_uzupelnione.copy()\n",
    "df_poprawa_nazwa['Nazwa'] = df_poprawa_nazwa['Nazwa'].str.title()\n",
    "\n",
    "df_poprawa_nazwa['Nazwa'] = df_poprawa_nazwa['Nazwa'].str.replace(r\"\\SwieTokrzyskie\\b\", \"Swietokrzyskie\")\n",
    "\n",
    "print(df_poprawa_nazwa['Nazwa'].unique())"
   ]
  },
  {
   "cell_type": "markdown",
   "metadata": {},
   "source": [
    "## Dodanie kolumny Zgony_per_100k\n",
    "\n",
    "Ostatnim etapem czyszczenia danych było dodanie kolumny z obliczonym współczynnikiem umieralności w przeliczeniu na 100 000 mieszkańców województwa. Wynik zostanie zaokrąglony do dwóch miejsc po przecinku. Wynikowy zbiór zostanie zapisany do zmiennej *df_obliczone*."
   ]
  },
  {
   "cell_type": "code",
   "execution_count": 28,
   "metadata": {},
   "outputs": [
    {
     "name": "stdout",
     "output_type": "stream",
     "text": [
      "count    320.000000\n",
      "mean     245.694094\n",
      "std       24.983356\n",
      "min      173.860000\n",
      "25%      229.380000\n",
      "50%      244.440000\n",
      "75%      261.545000\n",
      "max      314.560000\n",
      "Name: Zgony_per_100k, dtype: float64\n"
     ]
    }
   ],
   "source": [
    "# %% dodanie kolumny z liczba zgonow w przeliczeniu na 100 000 mieszkancow\n",
    "df_obliczone = df_poprawa_nazwa.copy()\n",
    "\n",
    "df_obliczone['Zgony_per_100k'] = (df_obliczone.zgony / df_obliczone.populacja) * 100000\n",
    "df_obliczone['Zgony_per_100k'] = df_obliczone['Zgony_per_100k'].round(2)\n",
    "\n",
    "print(df_obliczone['Zgony_per_100k'].describe())"
   ]
  },
  {
   "cell_type": "markdown",
   "metadata": {},
   "source": [
    "# Analiza danych\n",
    "\n",
    "W wyniku przeprowadzonych analiz, można stwierdzić, że w kolejnych latach, rośnie liczba zgonów spowodowanych nowotworami. Można także zauważyć wpływ wzrostu zanieczyszczeń, na liczbę zgonów w przeliczeniu na 100 000 mieszkańców danego województwa.\n",
    "Największy wpływ mają następujące gazy:\n",
    "\n",
    "* dwutlenek węgla,\n",
    "* tlenki azotu.\n",
    "\n",
    "\n",
    "Dodatkowo nie można określić spadku emisji zanieczyszczeń na przestrzeni lat. Jedynymi wyjątkami są tutaj tlenki azotu i dwutlenek siarki, którego każde województwo z czasem produkuje mniej.\n",
    "\n",
    "Zdecydowaną większość zanieczyszczeń stanowi dwutlenek węgla.\n",
    "Najwiekszymi producentami tego gazu są województwa łódzkie i śląskie.\n",
    "Najmniejszą emisją odznaczają się województwa podlaskie i warmińsko-mazurskie."
   ]
  },
  {
   "cell_type": "markdown",
   "metadata": {},
   "source": [
    "# Wizualizacja danych\n",
    "\n",
    "Do wizualizacji danych została wykorzystana biblioteka dash. Pozwala ona na stworzenie interfejsu użytkownika w postaci aplikacji webowej. Aplikacja została wdrożona na platformę Heroku i jest dostępna pod poniższym linkiem:<br />\n",
    "https://oruba-dash-app.herokuapp.com/\n",
    "\n",
    "Kod aplikacji dostępny jest w serwisie GitHub:<br />\n",
    "https://github.com/michalOruba/dash_app\n",
    "\n",
    "Przy kolorowaniu wykresów, skorzystano z poniższych palet kolorów:\n",
    "\n",
    "Kolory województw:<br />\n",
    "Pierwsze 8 kolorów wybranych zostało z poniższej palety:<br />\n",
    "https://colorbrewer2.org/#type=qualitative&scheme=Pastel2&n=8 <br />\n",
    "Pozostałe 8 z poniższej:<br />\n",
    "https://colorbrewer2.org/#type=qualitative&scheme=Set1&n=8 <br />\n",
    "Ze względu na 16 wartości, zdecydowano się na połączenie dwóch palet<br />\n",
    "\n",
    "Kolory zanieczyszczeń:<br />\n",
    "https://colorbrewer2.org/#type=qualitative&scheme=Set3&n=7 <br />"
   ]
  }
 ],
 "metadata": {
  "kernelspec": {
   "display_name": "Python 3",
   "language": "python",
   "name": "python3"
  },
  "language_info": {
   "codemirror_mode": {
    "name": "ipython",
    "version": 3
   },
   "file_extension": ".py",
   "mimetype": "text/x-python",
   "name": "python",
   "nbconvert_exporter": "python",
   "pygments_lexer": "ipython3",
   "version": "3.8.5"
  }
 },
 "nbformat": 4,
 "nbformat_minor": 4
}
